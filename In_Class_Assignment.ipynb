{
  "nbformat": 4,
  "nbformat_minor": 0,
  "metadata": {
    "colab": {
      "provenance": [],
      "authorship_tag": "ABX9TyOSYs6FoWur4AXs2es10Zgk",
      "include_colab_link": true
    },
    "kernelspec": {
      "name": "python3",
      "display_name": "Python 3"
    },
    "language_info": {
      "name": "python"
    }
  },
  "cells": [
    {
      "cell_type": "markdown",
      "metadata": {
        "id": "view-in-github",
        "colab_type": "text"
      },
      "source": [
        "<a href=\"https://colab.research.google.com/github/AlecRempel1/BTE-320-AMR/blob/main/In_Class_Assignment.ipynb\" target=\"_parent\"><img src=\"https://colab.research.google.com/assets/colab-badge.svg\" alt=\"Open In Colab\"/></a>"
      ]
    },
    {
      "cell_type": "code",
      "source": [
        "Radius = float(input(\"Please enter radius: \"))\n",
        "Height = float(input(\"Please enter height: \"))\n",
        "pi = 3.14\n",
        "area = (2 * pi* Radius **2) + (2 * pi * Radius * Height)\n",
        "print(\"Area of Cylinder:\", area, \"sq. ft\")\n",
        "type(area)"
      ],
      "metadata": {
        "colab": {
          "base_uri": "https://localhost:8080/"
        },
        "id": "Y5qRSUQyK7Y5",
        "outputId": "bf315280-d98b-415d-b57f-12cb1a27dc47"
      },
      "execution_count": null,
      "outputs": [
        {
          "output_type": "stream",
          "name": "stdout",
          "text": [
            "Please enter radius: 5\n",
            "Please enter height: 5\n",
            "Area of Cylinder: 314.0 sq. ft\n"
          ]
        },
        {
          "output_type": "execute_result",
          "data": {
            "text/plain": [
              "float"
            ]
          },
          "metadata": {},
          "execution_count": 1
        }
      ]
    },
    {
      "cell_type": "code",
      "source": [
        "n1 = float(input(\"Please enter number 1: \"))\n",
        "n2 = float(input(\"Please enter number 2: \"))\n",
        "op = input(\"Please enter the operation: \")\n",
        "\n",
        "if op == \"+\":\n",
        "  print(n1 + n2)\n",
        "elif op == \"-\":\n",
        "  print(n1 - n2)\n",
        "elif op == \"*\":\n",
        "  print(n1 * n2)\n",
        "elif op == \"/\":\n",
        "  print(n1 / n2)\n",
        "elif op == \"//\":\n",
        "  print(n1 // n2)\n",
        "elif op == \"**\":\n",
        "  print(n1 ** n2)\n",
        "elif op == \"%\":\n",
        "  print(n1 % n2)\n",
        "else:\n",
        "  print(\"Invalid operation\")"
      ],
      "metadata": {
        "colab": {
          "base_uri": "https://localhost:8080/"
        },
        "id": "zaJkPtZBMIYT",
        "outputId": "870f5c86-a736-478d-cb02-0c7af73f0e63"
      },
      "execution_count": null,
      "outputs": [
        {
          "output_type": "stream",
          "name": "stdout",
          "text": [
            "Please enter number 1: 1\n",
            "Please enter number 2: 2\n",
            "Please enter the operation: **\n",
            "1.0\n"
          ]
        }
      ]
    },
    {
      "cell_type": "code",
      "source": [
        "for numberHours in range(1, 9):\n",
        "  fee = 5 + 2.5 * numberHours\n",
        "  if fee < 10:\n",
        "    fee = 10\n",
        "  elif fee > 20:\n",
        "    fee = 20\n",
        "  print(numberHours, fee)"
      ],
      "metadata": {
        "colab": {
          "base_uri": "https://localhost:8080/"
        },
        "id": "RK6Fo2llNn9t",
        "outputId": "dbbbd925-5c80-4c67-c12c-6498b22cd7be"
      },
      "execution_count": null,
      "outputs": [
        {
          "output_type": "stream",
          "name": "stdout",
          "text": [
            "1 10\n",
            "2 10.0\n",
            "3 12.5\n",
            "4 15.0\n",
            "5 17.5\n",
            "6 20.0\n",
            "7 20\n",
            "8 20\n"
          ]
        }
      ]
    },
    {
      "cell_type": "code",
      "source": [
        "import math\n",
        "\n",
        "print('ad$/t', 'Profit')\n",
        "for adMoney in range(0, 201, 25):\n",
        "  revenue = (20 + 2 *round(math.sqrt(adMoney))) * 10\n",
        "  cost = 200 + adMoney\n",
        "  profit = revenue - cost\n",
        "  print(adMoney, \"\\t\", profit)"
      ],
      "metadata": {
        "colab": {
          "base_uri": "https://localhost:8080/"
        },
        "id": "f_FATsvWO38I",
        "outputId": "f3ce520b-0687-4757-d9a9-0930268a99be"
      },
      "execution_count": null,
      "outputs": [
        {
          "output_type": "stream",
          "name": "stdout",
          "text": [
            "ad$/t Profit\n",
            "0 \t 0\n",
            "25 \t 75\n",
            "50 \t 90\n",
            "75 \t 105\n",
            "100 \t 100\n",
            "125 \t 95\n",
            "150 \t 90\n",
            "175 \t 85\n",
            "200 \t 80\n"
          ]
        }
      ]
    },
    {
      "cell_type": "code",
      "source": [
        "play = (input(\"Would you like to play the game(Yes or No): \"))\n",
        "while play == \"Yes\" or play == \"yes\":\n",
        "  print(\"Let's Play!\")\n",
        "  PlayerOne = input(\"Player One, Please enter Rock, Paper, or Scissors: \")\n",
        "  PlayerTwo = input(\"Player Two, Please enter Rock, Paper, or Scissors: \")\n",
        "  if PlayerOne == PlayerTwo:\n",
        "    print(\"Tie!\")\n",
        "  elif PlayerOne == \"Rock\" and PlayerTwo == \"Scissors\":\n",
        "    print(\"Player One Wins!\")\n",
        "  elif PlayerOne == \"Paper\" and PlayerTwo == \"Rock\":\n",
        "    print(\"Player One Wins!\")\n",
        "  elif PlayerOne == \"Scissors\" and PlayerTwo == \"Paper\":\n",
        "    print(\"Player One Wins!\")\n",
        "  else:\n",
        "    print(\"Player Two Wins!\")\n",
        "\n",
        "    play = input(\"Would you like to play again(Yes or No): \")\n",
        "print(\"Have a good day!\")"
      ],
      "metadata": {
        "colab": {
          "base_uri": "https://localhost:8080/"
        },
        "id": "4O2NHmwJPgRM",
        "outputId": "9cafc44f-879e-4a80-f785-aecf1e407a6f"
      },
      "execution_count": null,
      "outputs": [
        {
          "output_type": "stream",
          "name": "stdout",
          "text": [
            "Would you like to play the game(Yes or No): yes\n",
            "Let's Play!\n",
            "Player One, Please enter Rock, Paper, or Scissors: rock\n",
            "Player Two, Please enter Rock, Paper, or Scissors: scissors\n",
            "Player Two Wins!\n",
            "Would you like to play again(Yes or No): no\n",
            "Have a good day!\n"
          ]
        }
      ]
    },
    {
      "cell_type": "code",
      "source": [
        "lst = []\n",
        "\n",
        "num = float(input(\"Please enter a number: \"))\n",
        "\n",
        "while num != 0.0:\n",
        "  lst.append(num)\n",
        "  num = float(input(\"Please enter a number: \"))\n",
        "lst.sort(reverse=True)\n",
        "lst"
      ],
      "metadata": {
        "id": "yHn9cMygSmQs",
        "colab": {
          "base_uri": "https://localhost:8080/"
        },
        "outputId": "6202971f-7bd3-4520-ddfa-8ca5050db85b"
      },
      "execution_count": 1,
      "outputs": [
        {
          "name": "stdout",
          "output_type": "stream",
          "text": [
            "Please enter a number: 5.674\n",
            "Please enter a number: 4.670\n",
            "Please enter a number: 3.4225\n",
            "Please enter a number: 2545.5\n",
            "Please enter a number: 2346.56543\n",
            "Please enter a number: 46754.5656\n",
            "Please enter a number: 0\n"
          ]
        },
        {
          "output_type": "execute_result",
          "data": {
            "text/plain": [
              "[46754.5656, 2545.5, 2346.56543, 5.674, 4.67, 3.4225]"
            ]
          },
          "metadata": {},
          "execution_count": 1
        }
      ]
    },
    {
      "cell_type": "code",
      "source": [
        "months = {}\n",
        "\n",
        "names = [\"Jan\", \"Feb\", \"Mar\", \"Apr\", \"May\", \"Jun\", \"Jul\", \"Aug\", \"Sep\", \"Oct\", \"Nov\", \"Dec\"]\n",
        "numbers = [1, 2, 3, 4, 5, 6, 7, 8, 9, 10, 11, 12]\n",
        "\n",
        "for idx in range(len(names)):\n",
        "  months[numbers[idx]] = names[idx]\n",
        "months"
      ],
      "metadata": {
        "colab": {
          "base_uri": "https://localhost:8080/"
        },
        "id": "rNq2mrhJqr6W",
        "outputId": "65cf934f-1ac3-4290-aab1-1751e0469e35"
      },
      "execution_count": 2,
      "outputs": [
        {
          "output_type": "execute_result",
          "data": {
            "text/plain": [
              "{1: 'Jan',\n",
              " 2: 'Feb',\n",
              " 3: 'Mar',\n",
              " 4: 'Apr',\n",
              " 5: 'May',\n",
              " 6: 'Jun',\n",
              " 7: 'Jul',\n",
              " 8: 'Aug',\n",
              " 9: 'Sep',\n",
              " 10: 'Oct',\n",
              " 11: 'Nov',\n",
              " 12: 'Dec'}"
            ]
          },
          "metadata": {},
          "execution_count": 2
        }
      ]
    },
    {
      "cell_type": "code",
      "source": [
        "counts = []\n",
        "\n",
        "while len(counts) < 5:\n",
        "  key = input(\"Please enter value: \")\n",
        "\n",
        "if key not in counts:\n",
        "  counts[key] = 1\n",
        "else:\n",
        "  counts[key] += 1\n",
        "counts"
      ],
      "metadata": {
        "colab": {
          "base_uri": "https://localhost:8080/",
          "height": 373
        },
        "id": "ni-Z04_Prhg1",
        "outputId": "ed3f109b-8e3c-4a31-c2ae-07dcee7e522e"
      },
      "execution_count": 7,
      "outputs": [
        {
          "name": "stdout",
          "output_type": "stream",
          "text": [
            "Please enter value: 1\n"
          ]
        },
        {
          "output_type": "error",
          "ename": "KeyboardInterrupt",
          "evalue": "Interrupted by user",
          "traceback": [
            "\u001b[0;31m---------------------------------------------------------------------------\u001b[0m",
            "\u001b[0;31mKeyboardInterrupt\u001b[0m                         Traceback (most recent call last)",
            "\u001b[0;32m<ipython-input-7-3157f9716d00>\u001b[0m in \u001b[0;36m<cell line: 0>\u001b[0;34m()\u001b[0m\n\u001b[1;32m      2\u001b[0m \u001b[0;34m\u001b[0m\u001b[0m\n\u001b[1;32m      3\u001b[0m \u001b[0;32mwhile\u001b[0m \u001b[0mlen\u001b[0m\u001b[0;34m(\u001b[0m\u001b[0mcounts\u001b[0m\u001b[0;34m)\u001b[0m \u001b[0;34m<\u001b[0m \u001b[0;36m5\u001b[0m\u001b[0;34m:\u001b[0m\u001b[0;34m\u001b[0m\u001b[0;34m\u001b[0m\u001b[0m\n\u001b[0;32m----> 4\u001b[0;31m   \u001b[0mkey\u001b[0m \u001b[0;34m=\u001b[0m \u001b[0minput\u001b[0m\u001b[0;34m(\u001b[0m\u001b[0;34m\"Please enter value: \"\u001b[0m\u001b[0;34m)\u001b[0m\u001b[0;34m\u001b[0m\u001b[0;34m\u001b[0m\u001b[0m\n\u001b[0m\u001b[1;32m      5\u001b[0m \u001b[0;34m\u001b[0m\u001b[0m\n\u001b[1;32m      6\u001b[0m \u001b[0;32mif\u001b[0m \u001b[0mkey\u001b[0m \u001b[0;32mnot\u001b[0m \u001b[0;32min\u001b[0m \u001b[0mcounts\u001b[0m\u001b[0;34m:\u001b[0m\u001b[0;34m\u001b[0m\u001b[0;34m\u001b[0m\u001b[0m\n",
            "\u001b[0;32m/usr/local/lib/python3.11/dist-packages/ipykernel/kernelbase.py\u001b[0m in \u001b[0;36mraw_input\u001b[0;34m(self, prompt)\u001b[0m\n\u001b[1;32m   1175\u001b[0m                 \u001b[0;34m\"raw_input was called, but this frontend does not support input requests.\"\u001b[0m\u001b[0;34m\u001b[0m\u001b[0;34m\u001b[0m\u001b[0m\n\u001b[1;32m   1176\u001b[0m             )\n\u001b[0;32m-> 1177\u001b[0;31m         return self._input_request(\n\u001b[0m\u001b[1;32m   1178\u001b[0m             \u001b[0mstr\u001b[0m\u001b[0;34m(\u001b[0m\u001b[0mprompt\u001b[0m\u001b[0;34m)\u001b[0m\u001b[0;34m,\u001b[0m\u001b[0;34m\u001b[0m\u001b[0;34m\u001b[0m\u001b[0m\n\u001b[1;32m   1179\u001b[0m             \u001b[0mself\u001b[0m\u001b[0;34m.\u001b[0m\u001b[0m_parent_ident\u001b[0m\u001b[0;34m[\u001b[0m\u001b[0;34m\"shell\"\u001b[0m\u001b[0;34m]\u001b[0m\u001b[0;34m,\u001b[0m\u001b[0;34m\u001b[0m\u001b[0;34m\u001b[0m\u001b[0m\n",
            "\u001b[0;32m/usr/local/lib/python3.11/dist-packages/ipykernel/kernelbase.py\u001b[0m in \u001b[0;36m_input_request\u001b[0;34m(self, prompt, ident, parent, password)\u001b[0m\n\u001b[1;32m   1217\u001b[0m             \u001b[0;32mexcept\u001b[0m \u001b[0mKeyboardInterrupt\u001b[0m\u001b[0;34m:\u001b[0m\u001b[0;34m\u001b[0m\u001b[0;34m\u001b[0m\u001b[0m\n\u001b[1;32m   1218\u001b[0m                 \u001b[0;31m# re-raise KeyboardInterrupt, to truncate traceback\u001b[0m\u001b[0;34m\u001b[0m\u001b[0;34m\u001b[0m\u001b[0m\n\u001b[0;32m-> 1219\u001b[0;31m                 \u001b[0;32mraise\u001b[0m \u001b[0mKeyboardInterrupt\u001b[0m\u001b[0;34m(\u001b[0m\u001b[0;34m\"Interrupted by user\"\u001b[0m\u001b[0;34m)\u001b[0m \u001b[0;32mfrom\u001b[0m \u001b[0;32mNone\u001b[0m\u001b[0;34m\u001b[0m\u001b[0;34m\u001b[0m\u001b[0m\n\u001b[0m\u001b[1;32m   1220\u001b[0m             \u001b[0;32mexcept\u001b[0m \u001b[0mException\u001b[0m\u001b[0;34m:\u001b[0m\u001b[0;34m\u001b[0m\u001b[0;34m\u001b[0m\u001b[0m\n\u001b[1;32m   1221\u001b[0m                 \u001b[0mself\u001b[0m\u001b[0;34m.\u001b[0m\u001b[0mlog\u001b[0m\u001b[0;34m.\u001b[0m\u001b[0mwarning\u001b[0m\u001b[0;34m(\u001b[0m\u001b[0;34m\"Invalid Message:\"\u001b[0m\u001b[0;34m,\u001b[0m \u001b[0mexc_info\u001b[0m\u001b[0;34m=\u001b[0m\u001b[0;32mTrue\u001b[0m\u001b[0;34m)\u001b[0m\u001b[0;34m\u001b[0m\u001b[0;34m\u001b[0m\u001b[0m\n",
            "\u001b[0;31mKeyboardInterrupt\u001b[0m: Interrupted by user"
          ]
        }
      ]
    },
    {
      "cell_type": "code",
      "source": [
        "def calcFee(hours):\n",
        "  fee = 5 + 2.5 * hours\n",
        "  if fee < 10.0:\n",
        "    fee = 10.0\n",
        "  elif fee >= 20.0:\n",
        "    fee = 20.0\n",
        "  print(f'fee: ${fee}')\n",
        "\n",
        "def main():\n",
        "    numHours = int(input('Enter number of hours: '))\n",
        "    calcFee(numHours)\n",
        "\n",
        "if __name__ == '__main__':\n",
        "   main()"
      ],
      "metadata": {
        "colab": {
          "base_uri": "https://localhost:8080/"
        },
        "id": "pZ5XtVSWrzki",
        "outputId": "bcc10343-1427-419b-81bf-e993698f9ed4"
      },
      "execution_count": 9,
      "outputs": [
        {
          "output_type": "stream",
          "name": "stdout",
          "text": [
            "Enter number of hours: 3\n",
            "fee: $12.5\n"
          ]
        }
      ]
    },
    {
      "cell_type": "code",
      "source": [
        "def reverse(s):\n",
        "  if len(s) <= 1:\n",
        "    return s\n",
        "  else:\n",
        "    return reverse(s[1:]) + s[0]\n",
        "reverse('Hello')"
      ],
      "metadata": {
        "colab": {
          "base_uri": "https://localhost:8080/",
          "height": 35
        },
        "id": "uUsyMd3gwdqR",
        "outputId": "38e8b833-4e83-4cf5-a7f3-cc4e2fcb6460"
      },
      "execution_count": 10,
      "outputs": [
        {
          "output_type": "execute_result",
          "data": {
            "text/plain": [
              "'olleH'"
            ],
            "application/vnd.google.colaboratory.intrinsic+json": {
              "type": "string"
            }
          },
          "metadata": {},
          "execution_count": 10
        }
      ]
    },
    {
      "cell_type": "code",
      "source": [
        "def reverse(s):\n",
        "  if len(s) <= 1:\n",
        "    return s\n",
        "  else:\n",
        "    return s[-1] + reverse(s[:-1])\n",
        "reverse('Hello')"
      ],
      "metadata": {
        "colab": {
          "base_uri": "https://localhost:8080/",
          "height": 35
        },
        "id": "t3PrCFyhwum6",
        "outputId": "905dca57-a74c-48d3-bd9a-6f5100df3af6"
      },
      "execution_count": 12,
      "outputs": [
        {
          "output_type": "execute_result",
          "data": {
            "text/plain": [
              "'olleH'"
            ],
            "application/vnd.google.colaboratory.intrinsic+json": {
              "type": "string"
            }
          },
          "metadata": {},
          "execution_count": 12
        }
      ]
    },
    {
      "cell_type": "code",
      "source": [
        "def calcFee(hours):\n",
        "  fee = 5 + 2.5 * hours\n",
        "  if fee < 10.0:\n",
        "    fee = 10.0\n",
        "  elif fee >= 20.0:\n",
        "    fee = 20.0\n",
        "  print(f'fee: ${fee}')\n",
        "\n",
        "def main():\n",
        "  try:\n",
        "    numHours = int(input('Enter number of hours: '))\n",
        "    calcFee(numHours)\n",
        "  except ValueError:\n",
        "    print('Cannot be casted as int()')\n",
        "\n",
        "if __name__ == '__main__':\n",
        "   main()"
      ],
      "metadata": {
        "colab": {
          "base_uri": "https://localhost:8080/"
        },
        "id": "KIe1LCydxWCg",
        "outputId": "b10b5497-4f50-45f4-a7fd-286043372c92"
      },
      "execution_count": 16,
      "outputs": [
        {
          "output_type": "stream",
          "name": "stdout",
          "text": [
            "Enter number of hours: 5.2\n",
            "Cannot be casted as int()\n"
          ]
        }
      ]
    },
    {
      "cell_type": "code",
      "source": [
        "def getValues(n):\n",
        "  L = []\n",
        "  for i in range(n):\n",
        "    weight = float(input('Enter Weight: '))\n",
        "    L.append(weight)\n",
        "  return L\n",
        "\n",
        "def calcAverage(alist):\n",
        "  try:\n",
        "    print(f'The average weight is {sum(alist[2:]) / len(alist[2:])} lbs.')\n",
        "  except ZeroDivisionError:\n",
        "    print('List alist is empty or has a length less than 2')\n",
        "  except:\n",
        "    print('Unknown error')\n",
        "\n",
        "if __name__ == '__main__':\n",
        "  try:\n",
        "    n = int(input('Enter size of list: '))\n",
        "    alist = getValues(n)\n",
        "    calcAverage(alist)\n",
        "  except ValueError:\n",
        "    print('Cannot be casted as int()')"
      ],
      "metadata": {
        "colab": {
          "base_uri": "https://localhost:8080/"
        },
        "id": "S-ssTrDMz796",
        "outputId": "82e67358-b874-4b4d-e33d-61a2707411ca"
      },
      "execution_count": 18,
      "outputs": [
        {
          "output_type": "stream",
          "name": "stdout",
          "text": [
            "Enter size of list: 0\n",
            "List alist is empty or has a length less than 2\n"
          ]
        }
      ]
    },
    {
      "cell_type": "code",
      "source": [
        "class Greeting:\n",
        "  def __init__(self, first, last):\n",
        "    self.first = first\n",
        "    self.last = last\n",
        "\n",
        "  def display(self, formal = False):\n",
        "    if formal:\n",
        "      print(f'Hello {self.first} {self.last}')\n",
        "    else:\n",
        "      print(f'Hi [self.first]')\n",
        "\n",
        "  def __str__(self):\n",
        "    return str(self.first)+ \", \" + str(self.last)\n",
        "\n",
        "greeting = Greeting('Donald', 'Becker')\n",
        "greeting.display(formal = True)\n",
        "print(greeting)"
      ],
      "metadata": {
        "colab": {
          "base_uri": "https://localhost:8080/"
        },
        "id": "yISKV82z4GTT",
        "outputId": "9267d162-2548-4938-ae90-6d12c97bfe7c"
      },
      "execution_count": 19,
      "outputs": [
        {
          "output_type": "stream",
          "name": "stdout",
          "text": [
            "Hello Donald Becker\n",
            "Donald, Becker\n"
          ]
        }
      ]
    },
    {
      "cell_type": "code",
      "source": [
        "class Student:\n",
        "  def __init__(self, name, number):\n",
        "    self.name = name\n",
        "    self.number = number\n",
        "    self.courses = []\n",
        "\n",
        "  def enroll(self, course):\n",
        "    if course not in self.courses:\n",
        "      self.courses.append(course)\n",
        "    else:\n",
        "        print(f'You have already enrolled in {course}')\n",
        "\n",
        "  def get_courses(self):\n",
        "    return self.courses\n",
        "\n",
        "s1 = Student('Bob', 100)\n",
        "s2 = Student('Alice', 101)\n",
        "s1.name, s2.name"
      ],
      "metadata": {
        "colab": {
          "base_uri": "https://localhost:8080/"
        },
        "id": "2zPtki4W6_BQ",
        "outputId": "5b52022a-c07a-4098-8de5-41401bff2061"
      },
      "execution_count": 22,
      "outputs": [
        {
          "output_type": "execute_result",
          "data": {
            "text/plain": [
              "('Bob', 'Alice')"
            ]
          },
          "metadata": {},
          "execution_count": 22
        }
      ]
    },
    {
      "cell_type": "code",
      "source": [],
      "metadata": {
        "id": "muALtAEK8Vbs"
      },
      "execution_count": null,
      "outputs": []
    }
  ]
}