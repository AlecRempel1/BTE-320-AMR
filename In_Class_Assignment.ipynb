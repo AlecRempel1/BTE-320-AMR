{
  "nbformat": 4,
  "nbformat_minor": 0,
  "metadata": {
    "colab": {
      "provenance": [],
      "authorship_tag": "ABX9TyPi/GW+bhjKHV6ONRLN2cIR",
      "include_colab_link": true
    },
    "kernelspec": {
      "name": "python3",
      "display_name": "Python 3"
    },
    "language_info": {
      "name": "python"
    }
  },
  "cells": [
    {
      "cell_type": "markdown",
      "metadata": {
        "id": "view-in-github",
        "colab_type": "text"
      },
      "source": [
        "<a href=\"https://colab.research.google.com/github/AlecRempel1/BTE-320-AMR/blob/main/In_Class_Assignment.ipynb\" target=\"_parent\"><img src=\"https://colab.research.google.com/assets/colab-badge.svg\" alt=\"Open In Colab\"/></a>"
      ]
    },
    {
      "cell_type": "code",
      "source": [
        "Radius = float(input(\"Please enter radius: \"))\n",
        "Height = float(input(\"Please enter height: \"))\n",
        "pi = 3.14\n",
        "area = (2 * pi* Radius **2) + (2 * pi * Radius * Height)\n",
        "print(\"Area of Cylinder:\", area, \"sq. ft\")\n",
        "type(area)"
      ],
      "metadata": {
        "colab": {
          "base_uri": "https://localhost:8080/"
        },
        "id": "Y5qRSUQyK7Y5",
        "outputId": "bf315280-d98b-415d-b57f-12cb1a27dc47"
      },
      "execution_count": null,
      "outputs": [
        {
          "output_type": "stream",
          "name": "stdout",
          "text": [
            "Please enter radius: 5\n",
            "Please enter height: 5\n",
            "Area of Cylinder: 314.0 sq. ft\n"
          ]
        },
        {
          "output_type": "execute_result",
          "data": {
            "text/plain": [
              "float"
            ]
          },
          "metadata": {},
          "execution_count": 1
        }
      ]
    },
    {
      "cell_type": "code",
      "source": [
        "n1 = float(input(\"Please enter number 1: \"))\n",
        "n2 = float(input(\"Please enter number 2: \"))\n",
        "op = input(\"Please enter the operation: \")\n",
        "\n",
        "if op == \"+\":\n",
        "  print(n1 + n2)\n",
        "elif op == \"-\":\n",
        "  print(n1 - n2)\n",
        "elif op == \"*\":\n",
        "  print(n1 * n2)\n",
        "elif op == \"/\":\n",
        "  print(n1 / n2)\n",
        "elif op == \"//\":\n",
        "  print(n1 // n2)\n",
        "elif op == \"**\":\n",
        "  print(n1 ** n2)\n",
        "elif op == \"%\":\n",
        "  print(n1 % n2)\n",
        "else:\n",
        "  print(\"Invalid operation\")"
      ],
      "metadata": {
        "colab": {
          "base_uri": "https://localhost:8080/"
        },
        "id": "zaJkPtZBMIYT",
        "outputId": "870f5c86-a736-478d-cb02-0c7af73f0e63"
      },
      "execution_count": null,
      "outputs": [
        {
          "output_type": "stream",
          "name": "stdout",
          "text": [
            "Please enter number 1: 1\n",
            "Please enter number 2: 2\n",
            "Please enter the operation: **\n",
            "1.0\n"
          ]
        }
      ]
    },
    {
      "cell_type": "code",
      "source": [
        "for numberHours in range(1, 9):\n",
        "  fee = 5 + 2.5 * numberHours\n",
        "  if fee < 10:\n",
        "    fee = 10\n",
        "  elif fee > 20:\n",
        "    fee = 20\n",
        "  print(numberHours, fee)"
      ],
      "metadata": {
        "colab": {
          "base_uri": "https://localhost:8080/"
        },
        "id": "RK6Fo2llNn9t",
        "outputId": "dbbbd925-5c80-4c67-c12c-6498b22cd7be"
      },
      "execution_count": null,
      "outputs": [
        {
          "output_type": "stream",
          "name": "stdout",
          "text": [
            "1 10\n",
            "2 10.0\n",
            "3 12.5\n",
            "4 15.0\n",
            "5 17.5\n",
            "6 20.0\n",
            "7 20\n",
            "8 20\n"
          ]
        }
      ]
    },
    {
      "cell_type": "code",
      "source": [
        "import math\n",
        "\n",
        "print('ad$/t', 'Profit')\n",
        "for adMoney in range(0, 201, 25):\n",
        "  revenue = (20 + 2 *round(math.sqrt(adMoney))) * 10\n",
        "  cost = 200 + adMoney\n",
        "  profit = revenue - cost\n",
        "  print(adMoney, \"\\t\", profit)"
      ],
      "metadata": {
        "colab": {
          "base_uri": "https://localhost:8080/"
        },
        "id": "f_FATsvWO38I",
        "outputId": "f3ce520b-0687-4757-d9a9-0930268a99be"
      },
      "execution_count": null,
      "outputs": [
        {
          "output_type": "stream",
          "name": "stdout",
          "text": [
            "ad$/t Profit\n",
            "0 \t 0\n",
            "25 \t 75\n",
            "50 \t 90\n",
            "75 \t 105\n",
            "100 \t 100\n",
            "125 \t 95\n",
            "150 \t 90\n",
            "175 \t 85\n",
            "200 \t 80\n"
          ]
        }
      ]
    },
    {
      "cell_type": "code",
      "source": [
        "play = (input(\"Would you like to play the game(Yes or No): \"))\n",
        "while play == \"Yes\" or play == \"yes\":\n",
        "  print(\"Let's Play!\")\n",
        "  PlayerOne = input(\"Player One, Please enter Rock, Paper, or Scissors: \")\n",
        "  PlayerTwo = input(\"Player Two, Please enter Rock, Paper, or Scissors: \")\n",
        "  if PlayerOne == PlayerTwo:\n",
        "    print(\"Tie!\")\n",
        "  elif PlayerOne == \"Rock\" and PlayerTwo == \"Scissors\":\n",
        "    print(\"Player One Wins!\")\n",
        "  elif PlayerOne == \"Paper\" and PlayerTwo == \"Rock\":\n",
        "    print(\"Player One Wins!\")\n",
        "  elif PlayerOne == \"Scissors\" and PlayerTwo == \"Paper\":\n",
        "    print(\"Player One Wins!\")\n",
        "  else:\n",
        "    print(\"Player Two Wins!\")\n",
        "\n",
        "    play = input(\"Would you like to play again(Yes or No): \")\n",
        "print(\"Have a good day!\")"
      ],
      "metadata": {
        "colab": {
          "base_uri": "https://localhost:8080/"
        },
        "id": "4O2NHmwJPgRM",
        "outputId": "9cafc44f-879e-4a80-f785-aecf1e407a6f"
      },
      "execution_count": null,
      "outputs": [
        {
          "output_type": "stream",
          "name": "stdout",
          "text": [
            "Would you like to play the game(Yes or No): yes\n",
            "Let's Play!\n",
            "Player One, Please enter Rock, Paper, or Scissors: rock\n",
            "Player Two, Please enter Rock, Paper, or Scissors: scissors\n",
            "Player Two Wins!\n",
            "Would you like to play again(Yes or No): no\n",
            "Have a good day!\n"
          ]
        }
      ]
    },
    {
      "cell_type": "code",
      "source": [],
      "metadata": {
        "id": "yHn9cMygSmQs"
      },
      "execution_count": null,
      "outputs": []
    }
  ]
}